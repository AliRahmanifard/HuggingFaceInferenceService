{
 "cells": [
  {
   "cell_type": "code",
   "id": "28af9afc-08f1-4161-abb7-c1a9c01e21fa",
   "metadata": {
    "ExecuteTime": {
     "end_time": "2025-06-02T04:30:30.245351Z",
     "start_time": "2025-06-02T04:30:30.225755Z"
    }
   },
   "source": [
    "import asyncio\n",
    "import httpx\n",
    "import time\n",
    "\n",
    "# The endpoint for your local container. If you used the nginx version, use port 80; else port 8000.\n",
    "BASE_URL = \"http://localhost/predict\""
   ],
   "outputs": [],
   "execution_count": 17
  },
  {
   "metadata": {
    "ExecuteTime": {
     "end_time": "2025-06-02T04:30:43.314161Z",
     "start_time": "2025-06-02T04:30:40.496188Z"
    }
   },
   "cell_type": "code",
   "source": [
    "# Define a sample text payload\n",
    "sample_payload = {\"text\": \"I love deploying FastAPI in Docker!\"}\n",
    "\n",
    "# Synchronous test (for comparison)\n",
    "start_time = time.time()\n",
    "response = httpx.post(BASE_URL, json=sample_payload)\n",
    "end_time = time.time()\n",
    "print(\"Status:\", response.status_code)\n",
    "print(\"Response JSON:\", response.json())\n",
    "print(f\"Completed 1 request in {end_time - start_time:.2f} seconds.\\n\")"
   ],
   "id": "1c73c93d576cc8b8",
   "outputs": [
    {
     "name": "stdout",
     "output_type": "stream",
     "text": [
      "Status: 200\n",
      "Response JSON: {'label': 'POSITIVE', 'score': 0.9872898459434509}\n",
      "Completed 1 request in 2.79 seconds.\n",
      "\n"
     ]
    }
   ],
   "execution_count": 18
  },
  {
   "metadata": {
    "ExecuteTime": {
     "end_time": "2025-06-02T04:31:07.512367Z",
     "start_time": "2025-06-02T04:31:07.492403Z"
    }
   },
   "cell_type": "code",
   "source": [
    "async def fetch_sentiment(client: httpx.AsyncClient, text: str):\n",
    "    payload = {\"text\": text}\n",
    "    try:\n",
    "        resp = await client.post(BASE_URL, json=payload, timeout=10.0)\n",
    "        return resp.json()\n",
    "    except Exception as e:\n",
    "        return {\"error\": str(e)}"
   ],
   "id": "e8d0cdb3224d4ed9",
   "outputs": [],
   "execution_count": 19
  },
  {
   "metadata": {
    "ExecuteTime": {
     "end_time": "2025-06-02T04:31:56.672943Z",
     "start_time": "2025-06-02T04:31:56.653399Z"
    }
   },
   "cell_type": "code",
   "source": [
    "async def run_parallel_requests(texts: list[str]):\n",
    "    async with httpx.AsyncClient() as client:\n",
    "        tasks = []\n",
    "        for t in texts:\n",
    "            tasks.append(fetch_sentiment(client, t))\n",
    "        # Gather results concurrently\n",
    "        results = await asyncio.gather(*tasks)\n",
    "    return results"
   ],
   "id": "79b110843fa28f57",
   "outputs": [],
   "execution_count": 20
  },
  {
   "metadata": {
    "ExecuteTime": {
     "end_time": "2025-06-02T04:33:28.709125Z",
     "start_time": "2025-06-02T04:33:23.131819Z"
    }
   },
   "cell_type": "code",
   "source": [
    "test_texts = [\n",
    "    \"I love this product!\",\n",
    "    \"This is the worst experience I've ever had.\",\n",
    "    \"FastAPI and Docker are awesome.\",\n",
    "    \"I hate waiting on slow APIs.\",\n",
    "    \"The weather is nice today.\",\n",
    "    \"I am not sure about this model.\",\n",
    "    \"Parallel requests are fun to demo.\",\n",
    "    \"Error handling is important.\",\n",
    "    \"Let's go to the movies tonight.\",\n",
    "    \"I didn't like the service.\",\n",
    "    \"Absolutely fantastic!\",\n",
    "    \"Terrible, I want a refund.\",\n",
    "    \"I'll probably recommend this to friends.\",\n",
    "    \"This is okay, not great.\",\n",
    "    \"Innovation drives success.\",\n",
    "    \"I'm bored right now.\",\n",
    "    \"Looking forward to the weekend.\",\n",
    "    \"I'm upset with the delay.\",\n",
    "    \"They delivered quickly.\",\n",
    "    \"Could be better, could be worse.\"\n",
    "]\n",
    "\n",
    "# Time the parallel execution\n",
    "start_time = time.time()\n",
    "results = await run_parallel_requests(test_texts)\n",
    "end_time = time.time()\n",
    "\n",
    "print(f\"Completed {len(test_texts)} requests in {end_time - start_time:.2f} seconds.\\n\")\n",
    "for i, res in enumerate(results, 1):\n",
    "    print(f\"{i:2d}. Input: '{test_texts[i-1]}' → {res}\")"
   ],
   "id": "de86c0c8c8a533f1",
   "outputs": [
    {
     "name": "stdout",
     "output_type": "stream",
     "text": [
      "Completed 20 requests in 5.54 seconds.\n",
      "\n",
      " 1. Input: 'I love this product!' → {'label': 'POSITIVE', 'score': 0.9998855590820312}\n",
      " 2. Input: 'This is the worst experience I've ever had.' → {'label': 'NEGATIVE', 'score': 0.9997679591178894}\n",
      " 3. Input: 'FastAPI and Docker are awesome.' → {'label': 'POSITIVE', 'score': 0.9998502731323242}\n",
      " 4. Input: 'I hate waiting on slow APIs.' → {'label': 'NEGATIVE', 'score': 0.996658444404602}\n",
      " 5. Input: 'The weather is nice today.' → {'label': 'POSITIVE', 'score': 0.9998351335525513}\n",
      " 6. Input: 'I am not sure about this model.' → {'label': 'NEGATIVE', 'score': 0.9996001124382019}\n",
      " 7. Input: 'Parallel requests are fun to demo.' → {'label': 'POSITIVE', 'score': 0.9964538812637329}\n",
      " 8. Input: 'Error handling is important.' → {'label': 'POSITIVE', 'score': 0.8825832605361938}\n",
      " 9. Input: 'Let's go to the movies tonight.' → {'label': 'POSITIVE', 'score': 0.9969881176948547}\n",
      "10. Input: 'I didn't like the service.' → {'label': 'NEGATIVE', 'score': 0.9969425797462463}\n",
      "11. Input: 'Absolutely fantastic!' → {'label': 'POSITIVE', 'score': 0.9998712539672852}\n",
      "12. Input: 'Terrible, I want a refund.' → {'label': 'NEGATIVE', 'score': 0.9993522763252258}\n",
      "13. Input: 'I'll probably recommend this to friends.' → {'label': 'POSITIVE', 'score': 0.9997972846031189}\n",
      "14. Input: 'This is okay, not great.' → {'label': 'NEGATIVE', 'score': 0.9903305768966675}\n",
      "15. Input: 'Innovation drives success.' → {'label': 'POSITIVE', 'score': 0.9998728036880493}\n",
      "16. Input: 'I'm bored right now.' → {'label': 'NEGATIVE', 'score': 0.9998043179512024}\n",
      "17. Input: 'Looking forward to the weekend.' → {'label': 'POSITIVE', 'score': 0.9997724890708923}\n",
      "18. Input: 'I'm upset with the delay.' → {'label': 'NEGATIVE', 'score': 0.9992750287055969}\n",
      "19. Input: 'They delivered quickly.' → {'label': 'POSITIVE', 'score': 0.9987775683403015}\n",
      "20. Input: 'Could be better, could be worse.' → {'label': 'NEGATIVE', 'score': 0.9991976618766785}\n"
     ]
    }
   ],
   "execution_count": 21
  },
  {
   "metadata": {},
   "cell_type": "code",
   "source": "",
   "id": "5e0bff1ebfbcb3cd",
   "outputs": [],
   "execution_count": null
  }
 ],
 "metadata": {
  "kernelspec": {
   "display_name": "Python 3 (ipykernel)",
   "language": "python",
   "name": "python3"
  },
  "language_info": {
   "codemirror_mode": {
    "name": "ipython",
    "version": 3
   },
   "file_extension": ".py",
   "mimetype": "text/x-python",
   "name": "python",
   "nbconvert_exporter": "python",
   "pygments_lexer": "ipython3",
   "version": "3.12.1"
  }
 },
 "nbformat": 4,
 "nbformat_minor": 5
}
